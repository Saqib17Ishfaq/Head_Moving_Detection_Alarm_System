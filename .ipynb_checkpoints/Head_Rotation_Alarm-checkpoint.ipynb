{
 "cells": [
  {
   "cell_type": "code",
   "execution_count": 1,
   "id": "ec275846-4789-447f-9116-122691287616",
   "metadata": {},
   "outputs": [
    {
     "name": "stdout",
     "output_type": "stream",
     "text": [
      "Requirement already satisfied: opencv-python in c:\\users\\saqib\\anaconda3\\lib\\site-packages (4.12.0.88)\n",
      "Requirement already satisfied: numpy<2.3.0,>=2 in c:\\users\\saqib\\anaconda3\\lib\\site-packages (from opencv-python) (2.1.3)\n",
      "Note: you may need to restart the kernel to use updated packages.\n"
     ]
    }
   ],
   "source": [
    "pip install opencv-python"
   ]
  },
  {
   "cell_type": "code",
   "execution_count": 1,
   "id": "b066a93a-2d4e-4cd8-b675-ff64df7ebffe",
   "metadata": {},
   "outputs": [
    {
     "name": "stdout",
     "output_type": "stream",
     "text": [
      "Requirement already satisfied: mediapipe in c:\\users\\saqib\\anaconda3\\envs\\mediapipe_env\\lib\\site-packages (0.10.14)\n",
      "Requirement already satisfied: absl-py in c:\\users\\saqib\\anaconda3\\envs\\mediapipe_env\\lib\\site-packages (from mediapipe) (2.3.1)\n",
      "Requirement already satisfied: attrs>=19.1.0 in c:\\users\\saqib\\anaconda3\\envs\\mediapipe_env\\lib\\site-packages (from mediapipe) (25.3.0)\n",
      "Requirement already satisfied: flatbuffers>=2.0 in c:\\users\\saqib\\anaconda3\\envs\\mediapipe_env\\lib\\site-packages (from mediapipe) (25.2.10)\n",
      "Requirement already satisfied: jax in c:\\users\\saqib\\anaconda3\\envs\\mediapipe_env\\lib\\site-packages (from mediapipe) (0.6.2)\n",
      "Requirement already satisfied: jaxlib in c:\\users\\saqib\\anaconda3\\envs\\mediapipe_env\\lib\\site-packages (from mediapipe) (0.6.2)\n",
      "Requirement already satisfied: matplotlib in c:\\users\\saqib\\anaconda3\\envs\\mediapipe_env\\lib\\site-packages (from mediapipe) (3.10.6)\n",
      "Requirement already satisfied: numpy in c:\\users\\saqib\\anaconda3\\envs\\mediapipe_env\\lib\\site-packages (from mediapipe) (2.2.6)\n",
      "Requirement already satisfied: opencv-contrib-python in c:\\users\\saqib\\anaconda3\\envs\\mediapipe_env\\lib\\site-packages (from mediapipe) (4.12.0.88)\n",
      "Requirement already satisfied: protobuf<5,>=4.25.3 in c:\\users\\saqib\\anaconda3\\envs\\mediapipe_env\\lib\\site-packages (from mediapipe) (4.25.8)\n",
      "Requirement already satisfied: sounddevice>=0.4.4 in c:\\users\\saqib\\anaconda3\\envs\\mediapipe_env\\lib\\site-packages (from mediapipe) (0.5.2)\n",
      "Requirement already satisfied: CFFI>=1.0 in c:\\users\\saqib\\anaconda3\\envs\\mediapipe_env\\lib\\site-packages (from sounddevice>=0.4.4->mediapipe) (2.0.0)\n",
      "Requirement already satisfied: pycparser in c:\\users\\saqib\\anaconda3\\envs\\mediapipe_env\\lib\\site-packages (from CFFI>=1.0->sounddevice>=0.4.4->mediapipe) (2.23)\n",
      "Requirement already satisfied: ml_dtypes>=0.5.0 in c:\\users\\saqib\\anaconda3\\envs\\mediapipe_env\\lib\\site-packages (from jax->mediapipe) (0.5.3)\n",
      "Requirement already satisfied: opt_einsum in c:\\users\\saqib\\anaconda3\\envs\\mediapipe_env\\lib\\site-packages (from jax->mediapipe) (3.4.0)\n",
      "Requirement already satisfied: scipy>=1.12 in c:\\users\\saqib\\anaconda3\\envs\\mediapipe_env\\lib\\site-packages (from jax->mediapipe) (1.15.3)\n",
      "Requirement already satisfied: contourpy>=1.0.1 in c:\\users\\saqib\\anaconda3\\envs\\mediapipe_env\\lib\\site-packages (from matplotlib->mediapipe) (1.3.2)\n",
      "Requirement already satisfied: cycler>=0.10 in c:\\users\\saqib\\anaconda3\\envs\\mediapipe_env\\lib\\site-packages (from matplotlib->mediapipe) (0.12.1)\n",
      "Requirement already satisfied: fonttools>=4.22.0 in c:\\users\\saqib\\anaconda3\\envs\\mediapipe_env\\lib\\site-packages (from matplotlib->mediapipe) (4.60.0)\n",
      "Requirement already satisfied: kiwisolver>=1.3.1 in c:\\users\\saqib\\anaconda3\\envs\\mediapipe_env\\lib\\site-packages (from matplotlib->mediapipe) (1.4.9)\n",
      "Requirement already satisfied: packaging>=20.0 in c:\\users\\saqib\\anaconda3\\envs\\mediapipe_env\\lib\\site-packages (from matplotlib->mediapipe) (25.0)\n",
      "Requirement already satisfied: pillow>=8 in c:\\users\\saqib\\anaconda3\\envs\\mediapipe_env\\lib\\site-packages (from matplotlib->mediapipe) (11.3.0)\n",
      "Requirement already satisfied: pyparsing>=2.3.1 in c:\\users\\saqib\\anaconda3\\envs\\mediapipe_env\\lib\\site-packages (from matplotlib->mediapipe) (3.2.4)\n",
      "Requirement already satisfied: python-dateutil>=2.7 in c:\\users\\saqib\\anaconda3\\envs\\mediapipe_env\\lib\\site-packages (from matplotlib->mediapipe) (2.9.0.post0)\n",
      "Requirement already satisfied: six>=1.5 in c:\\users\\saqib\\anaconda3\\envs\\mediapipe_env\\lib\\site-packages (from python-dateutil>=2.7->matplotlib->mediapipe) (1.17.0)\n",
      "Note: you may need to restart the kernel to use updated packages.\n"
     ]
    }
   ],
   "source": [
    "pip install mediapipe"
   ]
  },
  {
   "cell_type": "code",
   "execution_count": 7,
   "id": "841f0fa3-95c9-4e1d-9412-6189b14dbece",
   "metadata": {},
   "outputs": [],
   "source": [
    "import cv2\n",
    "import time\n",
    "import winsound\n",
    "import mediapipe as mp"
   ]
  },
  {
   "cell_type": "code",
   "execution_count": 8,
   "id": "ee9246b2-57b0-4096-9849-ce04df28a3c9",
   "metadata": {},
   "outputs": [],
   "source": [
    "# Alarm helper function\n",
    "def beep_alarm():\n",
    "    duration = 500  # milliseconds\n",
    "    freq = 1000     # Hz\n",
    "    winsound.Beep(freq, duration)"
   ]
  },
  {
   "cell_type": "code",
   "execution_count": 9,
   "id": "51ce5e33-5af0-4edf-b0a3-d07ba82d8b44",
   "metadata": {},
   "outputs": [],
   "source": [
    "# Function to close the camera\n",
    "def close_camera(cam, out):\n",
    "    \"\"\"Release the camera and close all OpenCV windows.\"\"\"\n",
    "    cam.release()\n",
    "    out.release()\n",
    "    cv2.destroyAllWindows()\n",
    "    print(\"Camera closed successfully.\")"
   ]
  },
  {
   "cell_type": "code",
   "execution_count": 10,
   "id": "0ae42afd-48f5-45b6-9388-59f6a7a6bc38",
   "metadata": {},
   "outputs": [],
   "source": [
    "def main():\n",
    "    # Initialize Mediapipe face mesh\n",
    "    mp_face_mesh = mp.solutions.face_mesh\n",
    "    face_mesh = mp_face_mesh.FaceMesh(refine_landmarks=True)\n",
    "    mp_drawing = mp.solutions.drawing_utils\n",
    "\n",
    "    # Open the default camera\n",
    "    cam = cv2.VideoCapture(0)\n",
    "\n",
    "    # Get the default frame width and height\n",
    "    frame_width = int(cam.get(cv2.CAP_PROP_FRAME_WIDTH))\n",
    "    frame_height = int(cam.get(cv2.CAP_PROP_FRAME_HEIGHT))\n",
    "\n",
    "    # Define the codec and create VideoWriter object\n",
    "    fourcc = cv2.VideoWriter_fourcc(*'mp4v')\n",
    "    out = cv2.VideoWriter('output.mp4', fourcc, 20.0, (frame_width, frame_height))\n",
    "\n",
    "    # Time trackers\n",
    "    head_left_start = None\n",
    "    head_right_start = None\n",
    "    eyes_closed_start = None\n",
    "\n",
    "    while True:\n",
    "        ret, frame = cam.read()\n",
    "        if not ret:\n",
    "            close_camera(cam, out)\n",
    "            break\n",
    "\n",
    "        # Convert frame to RGB for mediapipe\n",
    "        rgb_frame = cv2.cvtColor(frame, cv2.COLOR_BGR2RGB)\n",
    "        results = face_mesh.process(rgb_frame)\n",
    "\n",
    "        if results.multi_face_landmarks:\n",
    "            for face_landmarks in results.multi_face_landmarks:\n",
    "                # Draw face landmarks\n",
    "                mp_drawing.draw_landmarks(frame, face_landmarks, mp_face_mesh.FACEMESH_CONTOURS)\n",
    "\n",
    "                # Extract landmarks: nose tip, eyes\n",
    "                h, w, _ = frame.shape\n",
    "                nose = face_landmarks.landmark[1]\n",
    "                left_eye = face_landmarks.landmark[159]\n",
    "                right_eye = face_landmarks.landmark[386]\n",
    "                left_eye_bottom = face_landmarks.landmark[145]\n",
    "                right_eye_bottom = face_landmarks.landmark[374]\n",
    "\n",
    "                nose_x = int(nose.x * w)\n",
    "\n",
    "                # Head left/right detection\n",
    "                center_x = w // 2\n",
    "                tolerance = 50\n",
    "\n",
    "                if nose_x < center_x - tolerance:\n",
    "                    if head_left_start is None:\n",
    "                        head_left_start = time.time()\n",
    "                    elif time.time() - head_left_start > 3:\n",
    "                        beep_alarm()\n",
    "                else:\n",
    "                    head_left_start = None\n",
    "\n",
    "                if nose_x > center_x + tolerance:\n",
    "                    if head_right_start is None:\n",
    "                        head_right_start = time.time()\n",
    "                    elif time.time() - head_right_start > 3:\n",
    "                        beep_alarm()\n",
    "                else:\n",
    "                    head_right_start = None\n",
    "\n",
    "                # Eye closure detection\n",
    "                left_eye_height = abs(left_eye.y - left_eye_bottom.y)\n",
    "                right_eye_height = abs(right_eye.y - right_eye_bottom.y)\n",
    "\n",
    "                if left_eye_height < 0.01 and right_eye_height < 0.01:\n",
    "                    if eyes_closed_start is None:\n",
    "                        eyes_closed_start = time.time()\n",
    "                    elif time.time() - eyes_closed_start > 3:\n",
    "                        beep_alarm()\n",
    "                else:\n",
    "                    eyes_closed_start = None\n",
    "\n",
    "        # Write the frame to the output file\n",
    "        out.write(frame)\n",
    "\n",
    "        # Display the captured frame\n",
    "        cv2.imshow('Camera', frame)\n",
    "\n",
    "        # Press 'q' to exit\n",
    "        if cv2.waitKey(1) == ord('q'):\n",
    "            close_camera(cam, out)\n",
    "            break"
   ]
  },
  {
   "cell_type": "code",
   "execution_count": null,
   "id": "6a3b2cfe-96d2-42ab-a619-04551e38c753",
   "metadata": {},
   "outputs": [
    {
     "name": "stderr",
     "output_type": "stream",
     "text": [
      "C:\\Users\\saqib\\anaconda3\\envs\\mediapipe_env\\lib\\site-packages\\google\\protobuf\\symbol_database.py:55: UserWarning: SymbolDatabase.GetPrototype() is deprecated. Please use message_factory.GetMessageClass() instead. SymbolDatabase.GetPrototype() will be removed soon.\n",
      "  warnings.warn('SymbolDatabase.GetPrototype() is deprecated. Please '\n"
     ]
    }
   ],
   "source": [
    "# Run the main function\n",
    "if __name__ == \"__main__\":\n",
    "    main()"
   ]
  },
  {
   "cell_type": "code",
   "execution_count": null,
   "id": "3cb1d5d2-1005-4682-99e0-c240c4ea980e",
   "metadata": {},
   "outputs": [],
   "source": []
  }
 ],
 "metadata": {
  "kernelspec": {
   "display_name": "Python (mediapipe_env)",
   "language": "python",
   "name": "mediapipe_env"
  },
  "language_info": {
   "codemirror_mode": {
    "name": "ipython",
    "version": 3
   },
   "file_extension": ".py",
   "mimetype": "text/x-python",
   "name": "python",
   "nbconvert_exporter": "python",
   "pygments_lexer": "ipython3",
   "version": "3.10.18"
  }
 },
 "nbformat": 4,
 "nbformat_minor": 5
}
